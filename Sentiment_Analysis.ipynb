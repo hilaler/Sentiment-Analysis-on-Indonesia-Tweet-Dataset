{
  "nbformat": 4,
  "nbformat_minor": 0,
  "metadata": {
    "colab": {
      "name": "Sentiment_Analysis.ipynb",
      "provenance": [],
      "collapsed_sections": [],
      "include_colab_link": true
    },
    "kernelspec": {
      "name": "python3",
      "display_name": "Python 3"
    }
  },
  "cells": [
    {
      "cell_type": "markdown",
      "metadata": {
        "id": "view-in-github",
        "colab_type": "text"
      },
      "source": [
        "<a href=\"https://colab.research.google.com/github/hilaler/Sentiment-Analysis-on-Indonesia-Tweet-Dataset/blob/main/Sentiment_Analysis.ipynb\" target=\"_parent\"><img src=\"https://colab.research.google.com/assets/colab-badge.svg\" alt=\"Open In Colab\"/></a>"
      ]
    },
    {
      "cell_type": "code",
      "metadata": {
        "id": "xMNZGhKOWiTs"
      },
      "source": [
        "%tensorflow_version 2.x"
      ],
      "execution_count": 4,
      "outputs": []
    },
    {
      "cell_type": "code",
      "metadata": {
        "id": "kWxsGSShh36a"
      },
      "source": [
        "import numpy as np # linear algebra\n",
        "import pandas as pd # data processing, CSV file I/O (e.g. pd.read_csv)\n",
        "\n",
        "from sklearn.feature_extraction.text import CountVectorizer\n",
        "from tensorflow.keras.preprocessing.text import Tokenizer\n",
        "from tensorflow.keras.preprocessing.sequence import pad_sequences\n",
        "from tensorflow.keras.models import Sequential\n",
        "from tensorflow.keras.layers import Dense, Embedding, LSTM, SpatialDropout1D, Dropout\n",
        "from sklearn.model_selection import train_test_split\n",
        "from tensorflow.keras.utils import to_categorical"
      ],
      "execution_count": 5,
      "outputs": []
    },
    {
      "cell_type": "code",
      "metadata": {
        "id": "4Y-p8xjHh6bE"
      },
      "source": [
        "data = pd.read_csv(\"indo_dataset.csv\")"
      ],
      "execution_count": 6,
      "outputs": []
    },
    {
      "cell_type": "code",
      "metadata": {
        "id": "hqtFhczDsbR7",
        "colab": {
          "base_uri": "https://localhost:8080/"
        },
        "outputId": "457a4efe-9058-449a-c6ca-954f02fbc787"
      },
      "source": [
        "data.iloc[0]"
      ],
      "execution_count": 7,
      "outputs": [
        {
          "output_type": "execute_result",
          "data": {
            "text/plain": [
              "index                                                       0\n",
              "sentimen                                                    0\n",
              "Tweet       lagu bosan apa yang aku save ni huhuhuhuhuhuhu...\n",
              "Name: 0, dtype: object"
            ]
          },
          "metadata": {
            "tags": []
          },
          "execution_count": 7
        }
      ]
    },
    {
      "cell_type": "code",
      "metadata": {
        "id": "XxLSYJcBiwB-"
      },
      "source": [
        "max_fatures = 2500\n",
        "tokenizer = Tokenizer(num_words=max_fatures, split=' ')\n",
        "tokenizer.fit_on_texts(data['Tweet'].values)"
      ],
      "execution_count": 8,
      "outputs": []
    },
    {
      "cell_type": "code",
      "metadata": {
        "id": "ghxMFn_4i0ZW"
      },
      "source": [
        "X = tokenizer.texts_to_sequences(data['Tweet'].values)"
      ],
      "execution_count": 9,
      "outputs": []
    },
    {
      "cell_type": "code",
      "metadata": {
        "id": "EbWHIeDissj5",
        "colab": {
          "base_uri": "https://localhost:8080/"
        },
        "outputId": "baee9e25-3144-4302-9eaf-35a7e76e0ab9"
      },
      "source": [
        "X[0]"
      ],
      "execution_count": 10,
      "outputs": [
        {
          "output_type": "execute_result",
          "data": {
            "text/plain": [
              "[629, 983, 15, 3, 1, 1735, 17]"
            ]
          },
          "metadata": {
            "tags": []
          },
          "execution_count": 10
        }
      ]
    },
    {
      "cell_type": "code",
      "metadata": {
        "id": "f5wUMom5j_H5"
      },
      "source": [
        "X = pad_sequences(X)"
      ],
      "execution_count": 11,
      "outputs": []
    },
    {
      "cell_type": "code",
      "metadata": {
        "id": "gVVPZIpLT03R",
        "colab": {
          "base_uri": "https://localhost:8080/"
        },
        "outputId": "751e2d69-0112-4295-9555-921cc235a45d"
      },
      "source": [
        "X[1]"
      ],
      "execution_count": 12,
      "outputs": [
        {
          "output_type": "execute_result",
          "data": {
            "text/plain": [
              "array([   0,    0,    0,    0,    0,    0,    0,    0,    0,    0,    0,\n",
              "          4,  103,  244,   11,  668,   20,    5,    1, 1736,   25,   53,\n",
              "       2068,   61,   49], dtype=int32)"
            ]
          },
          "metadata": {
            "tags": []
          },
          "execution_count": 12
        }
      ]
    },
    {
      "cell_type": "code",
      "metadata": {
        "id": "pIl2Pplqp8Pa"
      },
      "source": [
        "Y = pd.get_dummies(data['sentimen']).values"
      ],
      "execution_count": 13,
      "outputs": []
    },
    {
      "cell_type": "code",
      "metadata": {
        "id": "16eVoAwHqBVN"
      },
      "source": [
        "X_train, X_test, Y_train, Y_test = train_test_split(X,Y, test_size = 0.33, random_state = 42)"
      ],
      "execution_count": 14,
      "outputs": []
    },
    {
      "cell_type": "code",
      "metadata": {
        "id": "CO_19AIoTwr8",
        "colab": {
          "base_uri": "https://localhost:8080/"
        },
        "outputId": "b62c5ba9-5ec9-4da7-8ab1-3a7fc5b6c548"
      },
      "source": [
        "X.shape[1]"
      ],
      "execution_count": 15,
      "outputs": [
        {
          "output_type": "execute_result",
          "data": {
            "text/plain": [
              "25"
            ]
          },
          "metadata": {
            "tags": []
          },
          "execution_count": 15
        }
      ]
    },
    {
      "cell_type": "code",
      "metadata": {
        "id": "v8IYqRR4lLO4",
        "colab": {
          "base_uri": "https://localhost:8080/"
        },
        "outputId": "730106a6-eb37-49e1-9a68-07255d4664dd"
      },
      "source": [
        "embed_dim = 128\n",
        "\n",
        "model = Sequential()\n",
        "model.add(Embedding(max_fatures, embed_dim,input_length = X.shape[1]))\n",
        "model.add(LSTM(128))\n",
        "model.add(Dropout(0.5))\n",
        "model.add(Dense(64, activation='relu'))\n",
        "model.add(Dropout(0.5))\n",
        "model.add(Dense(2, activation='softmax'))\n",
        "model.compile(loss = 'categorical_crossentropy', optimizer='adam',metrics = ['accuracy'])\n",
        "print(model.summary())"
      ],
      "execution_count": 16,
      "outputs": [
        {
          "output_type": "stream",
          "text": [
            "Model: \"sequential\"\n",
            "_________________________________________________________________\n",
            "Layer (type)                 Output Shape              Param #   \n",
            "=================================================================\n",
            "embedding (Embedding)        (None, 25, 128)           320000    \n",
            "_________________________________________________________________\n",
            "lstm (LSTM)                  (None, 128)               131584    \n",
            "_________________________________________________________________\n",
            "dropout (Dropout)            (None, 128)               0         \n",
            "_________________________________________________________________\n",
            "dense (Dense)                (None, 64)                8256      \n",
            "_________________________________________________________________\n",
            "dropout_1 (Dropout)          (None, 64)                0         \n",
            "_________________________________________________________________\n",
            "dense_1 (Dense)              (None, 2)                 130       \n",
            "=================================================================\n",
            "Total params: 459,970\n",
            "Trainable params: 459,970\n",
            "Non-trainable params: 0\n",
            "_________________________________________________________________\n",
            "None\n"
          ],
          "name": "stdout"
        }
      ]
    },
    {
      "cell_type": "code",
      "metadata": {
        "id": "Tt5DRDaAm9nW",
        "colab": {
          "base_uri": "https://localhost:8080/"
        },
        "outputId": "fdb645db-1e04-48ed-e38f-7ca04c6927d8"
      },
      "source": [
        "batch_size = 32\n",
        "model.fit(X_train, Y_train, validation_data=(X_test, Y_test), epochs = 10, batch_size=batch_size)"
      ],
      "execution_count": 17,
      "outputs": [
        {
          "output_type": "stream",
          "text": [
            "Epoch 1/10\n",
            "115/115 [==============================] - 9s 52ms/step - loss: 0.6679 - accuracy: 0.5738 - val_loss: 0.6035 - val_accuracy: 0.6893\n",
            "Epoch 2/10\n",
            "115/115 [==============================] - 5s 47ms/step - loss: 0.4939 - accuracy: 0.7670 - val_loss: 0.5686 - val_accuracy: 0.7186\n",
            "Epoch 3/10\n",
            "115/115 [==============================] - 5s 47ms/step - loss: 0.3414 - accuracy: 0.8575 - val_loss: 0.6812 - val_accuracy: 0.7037\n",
            "Epoch 4/10\n",
            "115/115 [==============================] - 5s 47ms/step - loss: 0.2596 - accuracy: 0.8986 - val_loss: 0.8311 - val_accuracy: 0.7120\n",
            "Epoch 5/10\n",
            "115/115 [==============================] - 5s 45ms/step - loss: 0.1937 - accuracy: 0.9251 - val_loss: 1.1949 - val_accuracy: 0.7175\n",
            "Epoch 6/10\n",
            "115/115 [==============================] - 5s 48ms/step - loss: 0.1328 - accuracy: 0.9477 - val_loss: 1.3652 - val_accuracy: 0.7076\n",
            "Epoch 7/10\n",
            "115/115 [==============================] - 6s 50ms/step - loss: 0.1040 - accuracy: 0.9567 - val_loss: 1.5924 - val_accuracy: 0.7120\n",
            "Epoch 8/10\n",
            "115/115 [==============================] - 5s 46ms/step - loss: 0.0700 - accuracy: 0.9722 - val_loss: 2.3819 - val_accuracy: 0.7059\n",
            "Epoch 9/10\n",
            "115/115 [==============================] - 5s 47ms/step - loss: 0.0702 - accuracy: 0.9684 - val_loss: 1.9515 - val_accuracy: 0.7103\n",
            "Epoch 10/10\n",
            "115/115 [==============================] - 6s 48ms/step - loss: 0.0634 - accuracy: 0.9725 - val_loss: 2.0637 - val_accuracy: 0.7032\n"
          ],
          "name": "stdout"
        },
        {
          "output_type": "execute_result",
          "data": {
            "text/plain": [
              "<tensorflow.python.keras.callbacks.History at 0x7f1c594d2310>"
            ]
          },
          "metadata": {
            "tags": []
          },
          "execution_count": 17
        }
      ]
    },
    {
      "cell_type": "code",
      "metadata": {
        "id": "ux05lQssqX1N"
      },
      "source": [
        "X_T = tokenizer.texts_to_sequences(np.array([\"saya benci baso\", \"saya suka baso\"]))\n",
        "X_T = pad_sequences(X_T, maxlen=25)"
      ],
      "execution_count": 18,
      "outputs": []
    },
    {
      "cell_type": "code",
      "metadata": {
        "id": "JtZRIiv-rPdD",
        "colab": {
          "base_uri": "https://localhost:8080/"
        },
        "outputId": "c9cf919d-12ad-40c4-cb69-b6d03cc04a54"
      },
      "source": [
        "for d in np.argmax(model.predict(X_T), axis=0):\n",
        "  print([\"Negativ\", \"Positif\"][d])"
      ],
      "execution_count": 19,
      "outputs": [
        {
          "output_type": "stream",
          "text": [
            "Negativ\n",
            "Positif\n"
          ],
          "name": "stdout"
        }
      ]
    },
    {
      "cell_type": "code",
      "metadata": {
        "id": "PiXmDIrQrvDz"
      },
      "source": [
        "model.save_weights('lstm.h5')"
      ],
      "execution_count": 20,
      "outputs": []
    },
    {
      "cell_type": "code",
      "metadata": {
        "id": "sQvJKOY4trjO",
        "colab": {
          "base_uri": "https://localhost:8080/"
        },
        "outputId": "362965ce-08cb-4472-a459-4b3299e73493"
      },
      "source": [
        "model2 = Sequential()\n",
        "model2.add(Embedding(max_fatures, embed_dim,input_length = X.shape[1]))\n",
        "model2.add(LSTM(256))\n",
        "model2.add(Dense(64, activation='relu'))\n",
        "model2.add(Dense(2, activation='softmax'))\n",
        "model2.compile(loss = 'categorical_crossentropy', optimizer='adam',metrics = ['accuracy'])\n",
        "print(model2.summary())"
      ],
      "execution_count": 21,
      "outputs": [
        {
          "output_type": "stream",
          "text": [
            "Model: \"sequential_1\"\n",
            "_________________________________________________________________\n",
            "Layer (type)                 Output Shape              Param #   \n",
            "=================================================================\n",
            "embedding_1 (Embedding)      (None, 25, 128)           320000    \n",
            "_________________________________________________________________\n",
            "lstm_1 (LSTM)                (None, 256)               394240    \n",
            "_________________________________________________________________\n",
            "dense_2 (Dense)              (None, 64)                16448     \n",
            "_________________________________________________________________\n",
            "dense_3 (Dense)              (None, 2)                 130       \n",
            "=================================================================\n",
            "Total params: 730,818\n",
            "Trainable params: 730,818\n",
            "Non-trainable params: 0\n",
            "_________________________________________________________________\n",
            "None\n"
          ],
          "name": "stdout"
        }
      ]
    },
    {
      "cell_type": "code",
      "metadata": {
        "id": "z7-Yc8QityHX"
      },
      "source": [
        "model2.load_weights('lstm.h5')"
      ],
      "execution_count": 26,
      "outputs": []
    },
    {
      "cell_type": "code",
      "metadata": {
        "id": "fGCTezget1UL",
        "colab": {
          "base_uri": "https://localhost:8080/"
        },
        "outputId": "3147d660-2d9b-4d37-b534-e575101bb2b1"
      },
      "source": [
        "for d in np.argmax(model2.predict(X_T), axis=0):\n",
        "  print([\"Negativ\", \"Positif\"][d])"
      ],
      "execution_count": 24,
      "outputs": [
        {
          "output_type": "stream",
          "text": [
            "Positif\n",
            "Negativ\n"
          ],
          "name": "stdout"
        }
      ]
    },
    {
      "cell_type": "code",
      "metadata": {
        "id": "wUC1SXzCt5ma"
      },
      "source": [
        ""
      ],
      "execution_count": null,
      "outputs": []
    }
  ]
}